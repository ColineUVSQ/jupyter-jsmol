{
 "cells": [
  {
   "cell_type": "code",
   "execution_count": null,
   "metadata": {},
   "outputs": [],
   "source": []
  },
  {
   "cell_type": "code",
   "execution_count": 37,
   "metadata": {},
   "outputs": [
    {
     "data": {
      "text/html": [
       "<script type=\"text/javascript\" src=\"/nbextensions/jupyter-jsmol/JSmol.min.js\"></script>\n"
      ],
      "text/plain": [
       "<IPython.core.display.HTML object>"
      ]
     },
     "metadata": {},
     "output_type": "display_data"
    }
   ],
   "source": [
    "%%html\n",
    "<script type=\"text/javascript\" src=\"/nbextensions/jupyter-jsmol/JSmol.min.js\"></script>\n"
   ]
  },
  {
   "cell_type": "code",
   "execution_count": 38,
   "metadata": {},
   "outputs": [],
   "source": [
    "# https://ipywidgets.readthedocs.io/en/stable/examples/Widget%20Custom.html\n",
    "# https://ipywidgets.readthedocs.io/en/latest/examples/Widget%20Low%20Level.html\n",
    "\n",
    "from traitlets import Unicode, Bool, validate, TraitError, Dict\n",
    "from ipywidgets import DOMWidget, register, Layout, Text, VBox, Button, HTML\n",
    "\n",
    "@register\n",
    "class JsmolView(DOMWidget):\n",
    "    _view_name = Unicode('JsmolView').tag(sync=True)\n",
    "    _view_module = Unicode('jsmol_widget').tag(sync=True)\n",
    "    _view_module_version = Unicode('0.1.0').tag(sync=True)\n",
    "\n",
    "    # Attributes\n",
    "    info = Dict(help=\"The values for initialising the jmol applet\").tag(sync=True)\n",
    "    cmd = Unicode(help=\"The commands for jmol applet\").tag(sync=True)\n",
    "\n",
    "    def __init__(self, width=\"100%\", height=400, color=\"gray\", **kwargs):\n",
    "        super().__init__(**kwargs)\n",
    "        self.info = {\n",
    "            'width': width,\n",
    "            'height': height,\n",
    "            'color': color,\n",
    "            'use': \"HTML5\",\n",
    "            'j2sPath': \"/nbextensions/jupyter-dataviewer/j2s\", \n",
    "            'antialiasDisplay': True,\n",
    "            'disableInitialConsole': True,\n",
    "            'disableJ2SLoadMonitor': True,\n",
    "            'debug': False,\n",
    "        }\n",
    "            \n",
    "    def script(self, cmd):\n",
    "        # Note: so far only send command if it is differs from the last (only if there is any chages)\n",
    "        # TODO: it should be only one directional\n",
    "        self.cmd = cmd\n",
    "\n",
    "    \n"
   ]
  },
  {
   "cell_type": "code",
   "execution_count": 53,
   "metadata": {},
   "outputs": [
    {
     "data": {
      "application/javascript": [
       "\n",
       "require.config({\n",
       "    paths: {\n",
       "        d3: 'https://d3js.org/d3.v5.min'\n",
       "    }\n",
       "});\n"
      ],
      "text/plain": [
       "<IPython.core.display.Javascript object>"
      ]
     },
     "metadata": {},
     "output_type": "display_data"
    }
   ],
   "source": [
    "%%javascript\n",
    "\n",
    "require.config({\n",
    "    paths: {\n",
    "        d3: 'https://d3js.org/d3.v5.min'\n",
    "    }\n",
    "});"
   ]
  },
  {
   "cell_type": "code",
   "execution_count": 57,
   "metadata": {},
   "outputs": [
    {
     "data": {
      "application/javascript": [
       "equire('d3')\n"
      ],
      "text/plain": [
       "<IPython.core.display.Javascript object>"
      ]
     },
     "metadata": {},
     "output_type": "display_data"
    }
   ],
   "source": [
    "%%javascript\n",
    "equire('d3')"
   ]
  },
  {
   "cell_type": "code",
   "execution_count": 51,
   "metadata": {
    "scrolled": true
   },
   "outputs": [
    {
     "data": {
      "application/javascript": [
       "var jm = require('/nbextensions/jupyter-jsmol/JSmol.min.js');\n"
      ],
      "text/plain": [
       "<IPython.core.display.Javascript object>"
      ]
     },
     "metadata": {},
     "output_type": "display_data"
    }
   ],
   "source": [
    "%%javascript\n",
    "var jm = require('/nbextensions/jupyter-jsmol/JSmol.min.js');"
   ]
  },
  {
   "cell_type": "code",
   "execution_count": null,
   "metadata": {},
   "outputs": [],
   "source": []
  },
  {
   "cell_type": "code",
   "execution_count": 39,
   "metadata": {},
   "outputs": [
    {
     "data": {
      "application/javascript": [
       "// http://wiki.jmol.org/index.php/Jmol_JavaScript_Object/Functions\n",
       "\n",
       "require.undef('jsmol_widget');\n",
       "\n",
       "define('jsmol_widget', [\"@jupyter-widgets/base\"], function(widgets) {\n",
       "\n",
       "    var JsmolView = widgets.DOMWidgetView.extend({\n",
       "        \n",
       "        // Render the view.\n",
       "        render: function() {\n",
       "            //JsmolView.__super__.render.apply(this, arguments);\n",
       "\n",
       "            // every view should have its own unique id            \n",
       "            this.el.setAttribute(\"id\", widgets.uuid());\n",
       "\n",
       "            // Create an Jmol applet\n",
       "            this.create_app();\n",
       "        \n",
       "            // Python -> JavaScript update\n",
       "            this.model.on('change:info', this.create_app, this);\n",
       "            this.model.on('change:cmd', this.send_cmd, this);\n",
       "            // this.listenTo(this.model, 'change:count', this._count_changed, this);\n",
       "\n",
       "\n",
       "        },\n",
       "        \n",
       "        create_app: function() {\n",
       "            console.log('Creating new object using the updated infos');\n",
       "            console.log(this)\n",
       "\n",
       "            // Note: jmol object needs to be created otherwise \n",
       "            // the callback function doesn't have access to info dict\n",
       "            // jsmol_id should be a valid variable name for a js variable\n",
       "            let jsmol_id = \"jsmol_\" + this.model.model_id\n",
       "\n",
       "            Jmol.setDocument(false);\n",
       "            this.jsmol = Jmol.getApplet(jsmol_id, this.model.get('info'));\n",
       "            \n",
       "            // Finally the the content of the div should be generated\n",
       "            // Note: innerHTML method doesn't work for some reason...\n",
       "            // this.jsmol_app.innerHTML = Jmol.getAppletHtml(jsmolapp_obj);\n",
       "           \n",
       "            var div_id = \"#\" + this.el.id;    // just a string\n",
       "            var jsmol = this.jsmol;           // the object itself \n",
       "            \n",
       "            $(div_id).ready(function() {\n",
       "                $(div_id).html(Jmol.getAppletHtml(jsmol));\n",
       "            });\n",
       "\n",
       "        },\n",
       "        \n",
       "        send_cmd: function() {\n",
       "            var script = this.model.get('cmd')\n",
       "            this.model.set('cmd', '_');\n",
       "            //this.model.save_changes();\n",
       "            this.touch()\n",
       "            \n",
       "            \n",
       "            Jmol.script(this.jsmol, script);\n",
       "    \n",
       "        }\n",
       "\n",
       "    });\n",
       "\n",
       "    return {\n",
       "        JsmolView: JsmolView\n",
       "    };\n",
       "});\n",
       "\n"
      ],
      "text/plain": [
       "<IPython.core.display.Javascript object>"
      ]
     },
     "metadata": {},
     "output_type": "display_data"
    }
   ],
   "source": [
    "%%javascript\n",
    "// http://wiki.jmol.org/index.php/Jmol_JavaScript_Object/Functions\n",
    "\n",
    "require.undef('jsmol_widget');\n",
    "\n",
    "define('jsmol_widget', [\"@jupyter-widgets/base\"], function(widgets) {\n",
    "\n",
    "    var JsmolView = widgets.DOMWidgetView.extend({\n",
    "        \n",
    "        // Render the view.\n",
    "        render: function() {\n",
    "            //JsmolView.__super__.render.apply(this, arguments);\n",
    "\n",
    "            // every view should have its own unique id            \n",
    "            this.el.setAttribute(\"id\", widgets.uuid());\n",
    "\n",
    "            // Create an Jmol applet\n",
    "            this.create_app();\n",
    "        \n",
    "            // Python -> JavaScript update\n",
    "            this.model.on('change:info', this.create_app, this);\n",
    "            this.model.on('change:cmd', this.send_cmd, this);\n",
    "            // this.listenTo(this.model, 'change:count', this._count_changed, this);\n",
    "\n",
    "\n",
    "        },\n",
    "        \n",
    "        create_app: function() {\n",
    "            console.log('Creating new object using the updated infos');\n",
    "            console.log(this)\n",
    "\n",
    "            // Note: jmol object needs to be created otherwise \n",
    "            // the callback function doesn't have access to info dict\n",
    "            // jsmol_id should be a valid variable name for a js variable\n",
    "            let jsmol_id = \"jsmol_\" + this.model.model_id\n",
    "\n",
    "            Jmol.setDocument(false);\n",
    "            this.jsmol = Jmol.getApplet(jsmol_id, this.model.get('info'));\n",
    "            \n",
    "            // Finally the the content of the div should be generated\n",
    "            // Note: innerHTML method doesn't work for some reason...\n",
    "            // this.jsmol_app.innerHTML = Jmol.getAppletHtml(jsmolapp_obj);\n",
    "           \n",
    "            var div_id = \"#\" + this.el.id;    // just a string\n",
    "            var jsmol = this.jsmol;           // the object itself \n",
    "            \n",
    "            $(div_id).ready(function() {\n",
    "                $(div_id).html(Jmol.getAppletHtml(jsmol));\n",
    "            });\n",
    "\n",
    "        },\n",
    "        \n",
    "        send_cmd: function() {\n",
    "            var script = this.model.get('cmd')\n",
    "            this.model.set('cmd', '_');\n",
    "            //this.model.save_changes();\n",
    "            this.touch()\n",
    "            \n",
    "            \n",
    "            Jmol.script(this.jsmol, script);\n",
    "    \n",
    "        }\n",
    "\n",
    "    });\n",
    "\n",
    "    return {\n",
    "        JsmolView: JsmolView\n",
    "    };\n",
    "});\n",
    "\n"
   ]
  },
  {
   "cell_type": "code",
   "execution_count": 40,
   "metadata": {
    "scrolled": true
   },
   "outputs": [
    {
     "data": {
      "application/vnd.jupyter.widget-view+json": {
       "model_id": "caa02751fb4145098ce08a827bec9c1a",
       "version_major": 2,
       "version_minor": 0
      },
      "text/plain": [
       "JsmolView(info={'width': '100%', 'height': 400, 'color': 'gray', 'use': 'HTML5', 'j2sPath': '/nbextensions/jup…"
      ]
     },
     "metadata": {},
     "output_type": "display_data"
    }
   ],
   "source": [
    "view1 = JsmolView(height=400, width='100%')\n",
    "view1"
   ]
  },
  {
   "cell_type": "code",
   "execution_count": 41,
   "metadata": {
    "scrolled": false
   },
   "outputs": [
    {
     "data": {
      "application/vnd.jupyter.widget-view+json": {
       "model_id": "dcd649a92a4649fe94916ada58bbd9fb",
       "version_major": 2,
       "version_minor": 0
      },
      "text/plain": [
       "JsmolView(info={'width': '100%', 'height': '100%', 'color': 'gray', 'use': 'HTML5', 'j2sPath': '/nbextensions/…"
      ]
     },
     "metadata": {},
     "output_type": "display_data"
    }
   ],
   "source": [
    "view2 = JsmolView(height=\"100%\", layout=Layout(height=\"600px\"))\n",
    "view2"
   ]
  },
  {
   "cell_type": "code",
   "execution_count": 42,
   "metadata": {},
   "outputs": [],
   "source": [
    "with open('example_structure.in') as f:\n",
    "    data = f.read()\n",
    "    \n",
    "# print(data)"
   ]
  },
  {
   "cell_type": "code",
   "execution_count": 43,
   "metadata": {},
   "outputs": [],
   "source": [
    "# load inline \"5 4 C 7.05 -5.74 C 8.27 -7.84 C 4.63 -7.14 C 5.84 -7.84 C 7.05 -7.14 1 5 1 2 5 1 3 4 1 4 5 1\"\n",
    "\n",
    "view1.script('load inline \"' + data + '\"')\n",
    "view1.script('rotate on')"
   ]
  },
  {
   "cell_type": "code",
   "execution_count": 44,
   "metadata": {},
   "outputs": [],
   "source": [
    "view2.script('load inline \"' + data + '\"')"
   ]
  },
  {
   "cell_type": "code",
   "execution_count": null,
   "metadata": {},
   "outputs": [],
   "source": []
  },
  {
   "cell_type": "code",
   "execution_count": 17,
   "metadata": {},
   "outputs": [
    {
     "data": {
      "text/plain": [
       "{'8510d431113d47df848de49f8c5cc945': Layout(),\n",
       " 'd0f86f82553e4042b579690fe9dde4cc': JsmolView(info={'width': '100%', 'height': 400, 'color': 'gray', 'use': 'HTML5', 'j2sPath': '/nbextensions/jupyter-dataviewer/j2s', 'antialiasDisplay': True, 'disableInitialConsole': True, 'disableJ2SLoadMonitor': True, 'debug': False}),\n",
       " 'fe3e6cc4dc1b4897a71988af7beb6eea': Layout(),\n",
       " '7790f6469c2d406aa8a7dce262c9d172': JsmolView(info={'width': '100%', 'height': 400, 'color': 'gray', 'use': 'HTML5', 'j2sPath': '/nbextensions/jupyter-dataviewer/j2s', 'antialiasDisplay': True, 'disableInitialConsole': True, 'disableJ2SLoadMonitor': True, 'debug': False}),\n",
       " '6a613ea769564f8a9051183713ab12bd': Layout(height='600px'),\n",
       " 'a4a865c12b0141aa9944303bf89b2dc6': JsmolView(cmd='rotate on', info={'width': '100%', 'height': '100%', 'color': 'gray', 'use': 'HTML5', 'j2sPath': '/nbextensions/jupyter-dataviewer/j2s', 'antialiasDisplay': True, 'disableInitialConsole': True, 'disableJ2SLoadMonitor': True, 'debug': False}, layout=Layout(height='600px')),\n",
       " 'a57d7eab2bcf401685a6b1324f7dbd4e': Layout(height='600px'),\n",
       " '05243f54316f4367abe3b42546da38ff': JsmolView(info={'width': '100%', 'height': '100%', 'color': 'gray', 'use': 'HTML5', 'j2sPath': '/nbextensions/jupyter-dataviewer/j2s', 'antialiasDisplay': True, 'disableInitialConsole': True, 'disableJ2SLoadMonitor': True, 'debug': False}, layout=Layout(height='600px')),\n",
       " '7f5a7febf82d450dbe87873fa5e3d488': Layout(),\n",
       " 'f30050f512fc48c1a87dbda4ea2271af': JsmolView(info={'width': '100%', 'height': 400, 'color': 'gray', 'use': 'HTML5', 'j2sPath': '/nbextensions/jupyter-dataviewer/j2s', 'antialiasDisplay': True, 'disableInitialConsole': True, 'disableJ2SLoadMonitor': True, 'debug': False}),\n",
       " '250a92773d164139837ff040a5936500': Layout(height='600px'),\n",
       " '4b879df0a6b341c3b7c36b50a95f94ca': JsmolView(info={'width': '100%', 'height': '100%', 'color': 'gray', 'use': 'HTML5', 'j2sPath': '/nbextensions/jupyter-dataviewer/j2s', 'antialiasDisplay': True, 'disableInitialConsole': True, 'disableJ2SLoadMonitor': True, 'debug': False}, layout=Layout(height='600px'))}"
      ]
     },
     "execution_count": 17,
     "metadata": {},
     "output_type": "execute_result"
    }
   ],
   "source": [
    "view.widgets"
   ]
  },
  {
   "cell_type": "code",
   "execution_count": 19,
   "metadata": {},
   "outputs": [],
   "source": [
    "view.close_all()"
   ]
  },
  {
   "cell_type": "code",
   "execution_count": null,
   "metadata": {},
   "outputs": [],
   "source": []
  },
  {
   "cell_type": "code",
   "execution_count": null,
   "metadata": {},
   "outputs": [],
   "source": []
  },
  {
   "cell_type": "code",
   "execution_count": null,
   "metadata": {},
   "outputs": [],
   "source": [
    "view.script('load example_structure.in')\n",
    "view.script('rotate on')"
   ]
  },
  {
   "cell_type": "code",
   "execution_count": null,
   "metadata": {},
   "outputs": [],
   "source": [
    "view.script('load $CCC(C)C')"
   ]
  },
  {
   "cell_type": "code",
   "execution_count": null,
   "metadata": {},
   "outputs": [],
   "source": [
    "view2 = JsmolView(layout=Layout(height=\"500px\"))\n",
    "view2"
   ]
  },
  {
   "cell_type": "code",
   "execution_count": null,
   "metadata": {},
   "outputs": [],
   "source": [
    "view2.script('load example_structure.in')\n",
    "view2.script('rotate off')"
   ]
  },
  {
   "cell_type": "code",
   "execution_count": null,
   "metadata": {},
   "outputs": [],
   "source": []
  },
  {
   "cell_type": "code",
   "execution_count": null,
   "metadata": {},
   "outputs": [],
   "source": [
    "from ase.io import read\n",
    "from ase.visualize import view"
   ]
  },
  {
   "cell_type": "code",
   "execution_count": null,
   "metadata": {},
   "outputs": [],
   "source": [
    "atoms = read('example_structure.in')\n",
    "atoms\n",
    "# view(atoms, viewer='ngl')"
   ]
  },
  {
   "cell_type": "code",
   "execution_count": null,
   "metadata": {},
   "outputs": [],
   "source": [
    "from ase.io import write\n"
   ]
  },
  {
   "cell_type": "code",
   "execution_count": null,
   "metadata": {},
   "outputs": [],
   "source": [
    "?write"
   ]
  },
  {
   "cell_type": "code",
   "execution_count": null,
   "metadata": {},
   "outputs": [],
   "source": []
  },
  {
   "cell_type": "code",
   "execution_count": null,
   "metadata": {},
   "outputs": [],
   "source": [
    "import io\n",
    "\n",
    "with io.StringIO() as output:\n",
    "    write(output, atoms, format='aims', parallel=False)\n",
    "    data = output.getvalue()\n",
    "data"
   ]
  },
  {
   "cell_type": "code",
   "execution_count": null,
   "metadata": {},
   "outputs": [],
   "source": [
    "?write"
   ]
  },
  {
   "cell_type": "code",
   "execution_count": null,
   "metadata": {},
   "outputs": [],
   "source": [
    "data"
   ]
  },
  {
   "cell_type": "code",
   "execution_count": null,
   "metadata": {},
   "outputs": [],
   "source": [
    "%%javascript\n",
    "// https://chemapps.stolaf.edu/jmol/docs/\n",
    "\n",
    "Jmol.script(jsmolapp_div, 'load example_structure.in')\n",
    "Jmol.script(jsmolapp_div, 'rotate off')\n",
    "\n"
   ]
  },
  {
   "cell_type": "code",
   "execution_count": null,
   "metadata": {},
   "outputs": [],
   "source": [
    "%%javascript\n",
    "Jmol.script(jsmolapp_div, 'set showUnitcell false')\n",
    "Jmol.script(jsmolapp_div, 'set showUnitcellDetails false')"
   ]
  },
  {
   "cell_type": "code",
   "execution_count": null,
   "metadata": {},
   "outputs": [],
   "source": [
    "view.test='sdfsf'"
   ]
  },
  {
   "cell_type": "code",
   "execution_count": null,
   "metadata": {},
   "outputs": [],
   "source": [
    "view.info=dict(view.info)"
   ]
  },
  {
   "cell_type": "code",
   "execution_count": null,
   "metadata": {},
   "outputs": [],
   "source": [
    "%%html\n",
    "<script type=\"text/javascript\">\n",
    "$(\"#jsmolapp_div\").ready(function() {\n",
    "    Info = {\n",
    "        width: \"100%\",\n",
    "        height: \"100%\",\n",
    "        color: \"gray\",\n",
    "        use: \"HTML5\",\n",
    "        j2sPath: \"/nbextensions/jupyter-dataviewer/j2s\",\n",
    "        antialiasDisplay: true,\n",
    "        disableInitialConsole: true,\n",
    "        disableJ2SLoadMonitor: true\n",
    "    };\n",
    "    $(\"#jsmolapp_div\").html(Jmol.getAppletHtml(\"jsmolapp_obj2\", Info));\n",
    "});\n",
    "</script>"
   ]
  },
  {
   "cell_type": "code",
   "execution_count": null,
   "metadata": {},
   "outputs": [],
   "source": [
    "%%html\n",
    "<script type=\"text/javascript\">\n",
    "$(\"#jsmolapp_div\").ready(function() {\n",
    "    Info = {\n",
    "        width: \"100%\",\n",
    "        height: \"100%\",\n",
    "        color: \"blue\",\n",
    "        script: \"load example_structure.in;\",\n",
    "        use: \"HTML5\",\n",
    "        j2sPath: \"/nbextensions/jupyter-dataviewer/j2s\",\n",
    "        antialiasDisplay: true,\n",
    "        disableInitialConsole: true,\n",
    "        disableJ2SLoadMonitor: true,\n",
    "    },\n",
    "    $(\"#jsmolapp_div\").html(Jmol.getAppletHtml(\"jsmolapp\", Info));\n",
    "});\n",
    "</script>"
   ]
  },
  {
   "cell_type": "code",
   "execution_count": null,
   "metadata": {},
   "outputs": [],
   "source": []
  },
  {
   "cell_type": "code",
   "execution_count": null,
   "metadata": {},
   "outputs": [],
   "source": [
    "// %%javascript\n",
    "\n",
    "// require.undef('jsmol_widget');\n",
    "\n",
    "// define('jsmol_widget', [\"@jupyter-widgets/base\"], function(widgets) {\n",
    "\n",
    "//     var JsmolView = widgets.DOMWidgetView.extend({\n",
    "\n",
    "//         // Render the view.\n",
    "//         render: function() {\n",
    "            \n",
    "//             this.el.setAttribute(\"id\", \"jsmolapp_div\");\n",
    "//             console.log(this);\n",
    "//             console.log(widgets);\n",
    "\n",
    "//             // Creating placeholder for Jsmol\n",
    "//             // this.jsmol_app = document.createElement('div');\n",
    "//             // this.jsmol_app.setAttribute(\"id\", \"jsmolapp_div\");\n",
    "//             // this.jsmol_app.style.height = \"100%\";\n",
    "//             // this.el.appendChild(this.jsmol_app);\n",
    "\n",
    "//             this.create_app()\n",
    "\n",
    "//             // Python -> JavaScript update\n",
    "//             this.model.on('change:info', this.create_app, this);\n",
    "\n",
    "//         },\n",
    "\n",
    "//         create_app: function() {\n",
    "//             console.log('Creating new object using the updated infos');\n",
    "\n",
    "//             // Create an Jmol applet\n",
    "//             // Note: jmol object needs to be created otherwise \n",
    "//             // the callback function doesn't have access to info dict\n",
    "//             Jmol.setDocument(false);\n",
    "//             Jmol.getApplet(\"jsmolapp_obj\", this.model.get('info'));\n",
    "\n",
    "//             // Finally the the content of the div should be generated\n",
    "//             // Note: innerHTML method doesn't work for some reason...\n",
    "//             // this.jsmol_app.innerHTML = Jmol.getAppletHtml(jsmolapp_obj);\n",
    "//             $(\"#jsmolapp_div\").ready(function() {\n",
    "//                 $(\"#jsmolapp_div\").html(Jmol.getAppletHtml(jsmolapp_obj));\n",
    "//             });\n",
    "\n",
    "//         },\n",
    "\n",
    "//         info_changed: function() {\n",
    "//             console.log(this.model.get('info'));\n",
    "//             //$(\"#jsmolapp\").html(Jmol.getAppletHtml(jsmolapp_obj));\n",
    "//             //this.jsmol_app.innerHTML = Jmol.getAppletHtml(jsmolapp_obj);\n",
    "//             console.log(this.el)\n",
    "//         },\n",
    "\n",
    "//     });\n",
    "\n",
    "//     return {\n",
    "//         JsmolView: JsmolView\n",
    "//     };\n",
    "// });\n",
    "\n",
    "// // // http://wiki.jmol.org/index.php/Jmol_JavaScript_Object/Functions"
   ]
  },
  {
   "cell_type": "code",
   "execution_count": null,
   "metadata": {},
   "outputs": [],
   "source": []
  }
 ],
 "metadata": {
  "kernelspec": {
   "display_name": "Python 3",
   "language": "python",
   "name": "python3"
  },
  "language_info": {
   "codemirror_mode": {
    "name": "ipython",
    "version": 3
   },
   "file_extension": ".py",
   "mimetype": "text/x-python",
   "name": "python",
   "nbconvert_exporter": "python",
   "pygments_lexer": "ipython3",
   "version": "3.7.6"
  }
 },
 "nbformat": 4,
 "nbformat_minor": 4
}
