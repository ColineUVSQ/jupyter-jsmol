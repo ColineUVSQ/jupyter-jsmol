{
 "cells": [
  {
   "cell_type": "markdown",
   "metadata": {},
   "source": [
    "# Building an interactive view\n",
    "\n",
    "JSmol viewer can be combined with other `ipywitdets` and creating an interactive application directly form python without the need to code anything in JavaScript."
   ]
  },
  {
   "cell_type": "code",
   "execution_count": null,
   "metadata": {},
   "outputs": [],
   "source": [
    "from jupyter_jsmol import JsmolView\n",
    "from ipywidgets import Layout, widgets, interact, Output\n",
    "from IPython.display import display"
   ]
  },
  {
   "cell_type": "markdown",
   "metadata": {},
   "source": [
    "# Intercative widgets: Adding sliders, buttons\n"
   ]
  },
  {
   "cell_type": "markdown",
   "metadata": {},
   "source": [
    "Enable rotation:"
   ]
  },
  {
   "cell_type": "code",
   "execution_count": null,
   "metadata": {},
   "outputs": [],
   "source": [
    "view1 = JsmolView()\n",
    "\n",
    "@interact(rotation=widgets.ToggleButton())\n",
    "def load_mode(rotation):\n",
    "    view1.script('rotate {}'.format('on' if rotation else 'off'))  \n",
    "\n",
    "display(view1)\n",
    "\n",
    "view1.load('data/CaF2.cif', '{1 1 1}')\n",
    "# view1.script('load data/CaF2.cif {1 1 1}')\n"
   ]
  },
  {
   "cell_type": "markdown",
   "metadata": {},
   "source": [
    "Selecting a vibrational mode:"
   ]
  },
  {
   "cell_type": "code",
   "execution_count": null,
   "metadata": {
    "scrolled": false
   },
   "outputs": [],
   "source": [
    "view2 = JsmolView()\n",
    "\n",
    "@interact(mode=widgets.IntSlider(min=1, max=9, step=1, value=6))\n",
    "def load_mode(mode):\n",
    "    view2.script('frame {}'.format(mode))\n",
    "\n",
    "@interact(amplitude=widgets.FloatSlider(min=0.1, max=2, value=1.))\n",
    "def set_amplitude(amplitude):\n",
    "    view2.script('vibration SCALE {};'.format(amplitude))\n",
    "\n",
    "@interact(period=widgets.FloatSlider(min=.1, max=2, value=1))\n",
    "def set_period(period):\n",
    "    view2.script('vibration {};'.format(period))\n",
    "\n",
    "\n",
    "@interact(pause=widgets.ToggleButton())\n",
    "def call_stop(pause):\n",
    "    view2.script('vibration {};'.format('off' if  pause else 'on'))\n",
    "\n",
    "\n",
    "display(view2)\n",
    "\n",
    "view2.load('data/CO2-DZV-hess.log', inline=False)\n",
    "# view2.script('load data/CO2-DZV-hess.log')\n",
    "view2.script('frame 6; vibration SCALE 1; vibration 1')"
   ]
  },
  {
   "cell_type": "markdown",
   "metadata": {},
   "source": [
    "## Selecting an atom"
   ]
  },
  {
   "cell_type": "code",
   "execution_count": null,
   "metadata": {},
   "outputs": [],
   "source": [
    "view3 = JsmolView.from_file(\"data/c2h410.xyz\", inline=False)\n",
    "view3"
   ]
  },
  {
   "cell_type": "markdown",
   "metadata": {},
   "source": [
    "Plase click on one of the atoms and run the code below:"
   ]
  },
  {
   "cell_type": "code",
   "execution_count": null,
   "metadata": {},
   "outputs": [],
   "source": [
    "view3.evaluate('_atomPicked')\n",
    "view3.response"
   ]
  },
  {
   "cell_type": "markdown",
   "metadata": {},
   "source": [
    "## Cleanup"
   ]
  },
  {
   "cell_type": "code",
   "execution_count": null,
   "metadata": {},
   "outputs": [],
   "source": [
    "view1.close_all()"
   ]
  },
  {
   "cell_type": "code",
   "execution_count": null,
   "metadata": {},
   "outputs": [],
   "source": []
  }
 ],
 "metadata": {
  "kernelspec": {
   "display_name": "Python 3",
   "language": "python",
   "name": "python3"
  },
  "language_info": {
   "codemirror_mode": {
    "name": "ipython",
    "version": 3
   },
   "file_extension": ".py",
   "mimetype": "text/x-python",
   "name": "python",
   "nbconvert_exporter": "python",
   "pygments_lexer": "ipython3",
   "version": "3.7.6"
  }
 },
 "nbformat": 4,
 "nbformat_minor": 4
}
