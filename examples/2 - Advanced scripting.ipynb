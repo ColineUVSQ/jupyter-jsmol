{
 "cells": [
  {
   "cell_type": "markdown",
   "metadata": {},
   "source": [
    "# Advanced scripting options for JSmol viewer\n",
    "\n",
    "JSmol has its own powerful script language which can be used with the `script` command. For all the available options please wisit the folloing page: https://chemapps.stolaf.edu/jmol/docs/"
   ]
  },
  {
   "cell_type": "code",
   "execution_count": null,
   "metadata": {},
   "outputs": [],
   "source": [
    "from jupyter_jsmol import JsmolView\n",
    "from ipywidgets import Layout, widgets, interact\n",
    "from IPython.display import display"
   ]
  },
  {
   "cell_type": "markdown",
   "metadata": {},
   "source": [
    "# Crating an image"
   ]
  },
  {
   "cell_type": "code",
   "execution_count": null,
   "metadata": {},
   "outputs": [],
   "source": [
    "view1 = JsmolView()\n",
    "display(view1)\n",
    "\n",
    "view1.script('load \"./coord.xyz\" {2 2 2} unitcell {  4.365  4.625  6.359  90.0 90.0  90.0};')"
   ]
  },
  {
   "cell_type": "markdown",
   "metadata": {},
   "source": [
    "Generating a jpg image:"
   ]
  },
  {
   "cell_type": "code",
   "execution_count": null,
   "metadata": {},
   "outputs": [],
   "source": [
    "view1.script('write IMAGE 1000 1000 JPG 100 \"image.jpg\"')"
   ]
  },
  {
   "cell_type": "markdown",
   "metadata": {},
   "source": [
    "# Visualising symmetry operators"
   ]
  },
  {
   "cell_type": "code",
   "execution_count": null,
   "metadata": {},
   "outputs": [],
   "source": [
    "view2 = JsmolView(layout=Layout(height=\"600px\"))\n",
    "display(view2)\n",
    "\n",
    "view2.script('load data/CaF2.cif {1 1 1}')\n"
   ]
  },
  {
   "cell_type": "markdown",
   "metadata": {},
   "source": [
    "JSmol conatins a lot of useful features like visualising the operations belongs to a certain symerty operator:"
   ]
  },
  {
   "cell_type": "code",
   "execution_count": null,
   "metadata": {},
   "outputs": [],
   "source": [
    "view2.script('draw SYMOP 131')"
   ]
  },
  {
   "cell_type": "markdown",
   "metadata": {},
   "source": [
    "You can send commands to JSmol applet like:"
   ]
  },
  {
   "cell_type": "code",
   "execution_count": null,
   "metadata": {},
   "outputs": [],
   "source": [
    "view2.script('rotate on')"
   ]
  },
  {
   "cell_type": "code",
   "execution_count": null,
   "metadata": {},
   "outputs": [],
   "source": [
    "view2.script('rotate off')"
   ]
  },
  {
   "cell_type": "markdown",
   "metadata": {},
   "source": [
    "Or you can also modify the structure/view:"
   ]
  },
  {
   "cell_type": "code",
   "execution_count": null,
   "metadata": {},
   "outputs": [],
   "source": [
    "view2.script('select atomno=1; color red; select atomno=2; color blue')"
   ]
  },
  {
   "cell_type": "markdown",
   "metadata": {},
   "source": [
    "# Advanced scripting"
   ]
  },
  {
   "cell_type": "code",
   "execution_count": null,
   "metadata": {},
   "outputs": [],
   "source": [
    "view3 = JsmolView(layout=Layout(height=\"600px\"))\n",
    "display(view3)\n",
    "\n",
    "view3.script(\"load data/surf8.xyz {1 2 2} unitcell {20 9.629966 8.340890 90 90 90}\")"
   ]
  },
  {
   "cell_type": "markdown",
   "metadata": {},
   "source": [
    "Using mulitline string (triple quotes) a custom script can be run:"
   ]
  },
  {
   "cell_type": "code",
   "execution_count": null,
   "metadata": {},
   "outputs": [],
   "source": [
    "script=\"\"\"\n",
    "nat=76\n",
    "for(ii=0;ii<=3;ii=ii+1)\n",
    " iat=17+ii*nat\n",
    " jat=5+ii*nat\n",
    " select atomno=iat, atomno=jat\n",
    " connect none\n",
    "\n",
    " iat=5+ii*nat\n",
    " jat=19+ii*nat\n",
    " select atomno=iat, atomno=jat\n",
    " connect none\n",
    "\n",
    " iat=19+ii*nat\n",
    " jat=7+ii*nat\n",
    " select atomno=19, atomno=7\n",
    " select atomno=iat, atomno=jat\n",
    " connect none\n",
    "\n",
    " iat=7+ii*nat\n",
    " jat=17+(ii+2)*nat\n",
    " select atomno=iat, atomno=jat\n",
    " connect none\n",
    "\n",
    "end for\n",
    "\n",
    "for(ii=0;ii<=2;ii=ii+2)\n",
    " iat=1+(ii+1)*nat\n",
    " jat=21+ii*nat\n",
    " select atomno=iat, atomno=jat\n",
    " connect none\n",
    "\n",
    " iat=21+ii*nat\n",
    " jat=3+(ii+1)*nat\n",
    " select atomno=iat, atomno=jat\n",
    " connect none\n",
    "\n",
    " iat=3+(ii+1)*nat\n",
    " jat=23+ii*nat\n",
    " select atomno=iat, atomno=jat\n",
    " connect none\n",
    "\n",
    " iat=23+ii*nat\n",
    " jat=1+(ii+3)*nat\n",
    " select atomno=iat, atomno=jat\n",
    " connect none\n",
    "\n",
    "end for\n",
    "\n",
    "for(ii=0;ii<=3;ii=ii+1)\n",
    " for(jj=0;jj<=3;jj=jj+1)\n",
    "  iat=(2*jj+1)+ii*nat\n",
    "  select atomno=iat\n",
    "  polyhedra radius 1.8 translucent color turquoise\n",
    "\n",
    "  iat=16+(2*jj+1)+ii*nat\n",
    "  select atomno=iat\n",
    "  polyhedra radius 1.8 translucent color yellow\n",
    "\n",
    "  iat=8+(2*jj+1)+ii*nat\n",
    "  select atomno=iat\n",
    "  polyhedra radius 1.8 translucent color pink\n",
    "\n",
    "  iat=(2*(jj+1))+ii*nat\n",
    "  select atomno=iat\n",
    "  polyhedra radius 1.8 translucent color green \n",
    "\n",
    "  iat=16+(2*(jj+1))+ii*nat\n",
    "  select atomno=iat\n",
    "  polyhedra radius 1.8 translucent color orange\n",
    "\n",
    " end for\n",
    "end for\n",
    "\"\"\"\n",
    "\n",
    "view3.script(script)"
   ]
  },
  {
   "cell_type": "markdown",
   "metadata": {},
   "source": [
    "## Cleanup"
   ]
  },
  {
   "cell_type": "code",
   "execution_count": null,
   "metadata": {},
   "outputs": [],
   "source": [
    "view1.close_all()"
   ]
  },
  {
   "cell_type": "code",
   "execution_count": null,
   "metadata": {},
   "outputs": [],
   "source": [
    "script=\"\"\"\n",
    "// use anti-aliasing\n",
    "set antialiasdisplay;\n",
    "// remove jmol logo\n",
    "set frank off;\n",
    "// use the smaller of height/width when setting zoom level\n",
    "set zoomlarge false;\n",
    "// Allow sending script commands while moveto is executing\n",
    "set waitformoveto off;\n",
    "hide off;\n",
    "\"\"\""
   ]
  },
  {
   "cell_type": "code",
   "execution_count": null,
   "metadata": {},
   "outputs": [],
   "source": []
  }
 ],
 "metadata": {
  "kernelspec": {
   "display_name": "Python 3",
   "language": "python",
   "name": "python3"
  },
  "language_info": {
   "codemirror_mode": {
    "name": "ipython",
    "version": 3
   },
   "file_extension": ".py",
   "mimetype": "text/x-python",
   "name": "python",
   "nbconvert_exporter": "python",
   "pygments_lexer": "ipython3",
   "version": "3.7.0"
  }
 },
 "nbformat": 4,
 "nbformat_minor": 4
}
