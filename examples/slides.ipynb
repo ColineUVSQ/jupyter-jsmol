{
 "cells": [
  {
   "cell_type": "markdown",
   "metadata": {
    "slideshow": {
     "slide_type": "slide"
    }
   },
   "source": [
    " # Visualisation in Jupyter Notebook\n",
    " \n",
    " Namur, 2020/02/26"
   ]
  },
  {
   "cell_type": "code",
   "execution_count": 1,
   "metadata": {
    "scrolled": true,
    "slideshow": {
     "slide_type": "skip"
    }
   },
   "outputs": [
    {
     "data": {
      "application/vnd.jupyter.widget-view+json": {
       "model_id": "94fe1bca3c5a4a8e956800f1d1fdcc9c",
       "version_major": 2,
       "version_minor": 0
      },
      "text/plain": [
       "_ColormakerRegistry()"
      ]
     },
     "metadata": {},
     "output_type": "display_data"
    }
   ],
   "source": [
    "import nglview\n",
    "import ipyvolume\n",
    "import numpy as np\n",
    "\n",
    "from jupyter_jsmol import JsmolView\n",
    "from ipywidgets import Layout, widgets, interact"
   ]
  },
  {
   "cell_type": "markdown",
   "metadata": {
    "slideshow": {
     "slide_type": "subslide"
    }
   },
   "source": [
    "## Goal\n",
    "\n",
    "- Why Jupyter notebook?\n",
    "  - \"New\" platform \n",
    "  - Data-driven development\n",
    "  - Sharing a results easily\n",
    "  "
   ]
  },
  {
   "cell_type": "markdown",
   "metadata": {
    "slideshow": {
     "slide_type": "fragment"
    }
   },
   "source": [
    "## Visualisation with Jmol/JSmol\n",
    "\n",
    "- it is quite old package (pros/cons)\n",
    "- support multiple formats\n",
    "- it contains a lot of features"
   ]
  },
  {
   "cell_type": "markdown",
   "metadata": {
    "slideshow": {
     "slide_type": "slide"
    }
   },
   "source": [
    "### Loading different structures"
   ]
  },
  {
   "cell_type": "code",
   "execution_count": 2,
   "metadata": {
    "scrolled": false
   },
   "outputs": [
    {
     "data": {
      "application/vnd.jupyter.widget-view+json": {
       "model_id": "6efce5e995a540ce8cc95bb2b970b07a",
       "version_major": 2,
       "version_minor": 0
      },
      "text/plain": [
       "JsmolView(info={'width': '100%', 'height': '100%', 'color': 'black', 'use': 'HTML5', 'j2sPath': '/nbextensions…"
      ]
     },
     "metadata": {},
     "output_type": "display_data"
    }
   ],
   "source": [
    "view1 = JsmolView.from_file('\"./coord.xyz\" {2 2 2} unitcell {  4.365  4.625  6.359  90.0 90.0  90.0}', layout=Layout(height=\"600px\"))\n",
    "view1"
   ]
  },
  {
   "cell_type": "markdown",
   "metadata": {
    "slideshow": {
     "slide_type": "subslide"
    }
   },
   "source": [
    "### Symmetries\n",
    "\n"
   ]
  },
  {
   "cell_type": "code",
   "execution_count": 3,
   "metadata": {},
   "outputs": [
    {
     "data": {
      "application/vnd.jupyter.widget-view+json": {
       "model_id": "0ec3412b1ade490698de1d8822ed6594",
       "version_major": 2,
       "version_minor": 0
      },
      "text/plain": [
       "JsmolView(info={'width': '100%', 'height': '100%', 'color': 'black', 'use': 'HTML5', 'j2sPath': '/nbextensions…"
      ]
     },
     "metadata": {},
     "output_type": "display_data"
    }
   ],
   "source": [
    "view3 = JsmolView.from_file('CaF2.cif {1 1 1}', layout=Layout(height=\"600px\"))\n",
    "view3"
   ]
  },
  {
   "cell_type": "code",
   "execution_count": 10,
   "metadata": {},
   "outputs": [],
   "source": [
    "view3.script('draw SYMOP  131')"
   ]
  },
  {
   "cell_type": "markdown",
   "metadata": {
    "slideshow": {
     "slide_type": "subslide"
    }
   },
   "source": [
    "### Vibrations (based on finite displacement)"
   ]
  },
  {
   "cell_type": "code",
   "execution_count": 4,
   "metadata": {},
   "outputs": [
    {
     "data": {
      "application/vnd.jupyter.widget-view+json": {
       "model_id": "aea961d004254b8f83bdc04b54cb97ef",
       "version_major": 2,
       "version_minor": 0
      },
      "text/plain": [
       "JsmolView(info={'width': '100%', 'height': '100%', 'color': 'black', 'use': 'HTML5', 'j2sPath': '/nbextensions…"
      ]
     },
     "metadata": {},
     "output_type": "display_data"
    }
   ],
   "source": [
    "view4 = JsmolView.from_file('1x1x1.xyz', layout=Layout(height=\"500px\"))\n",
    "view4"
   ]
  },
  {
   "cell_type": "code",
   "execution_count": 16,
   "metadata": {
    "slideshow": {
     "slide_type": "-"
    }
   },
   "outputs": [],
   "source": [
    "view4.script('frame 11; vibration SCALE 5; vibration 1')"
   ]
  },
  {
   "cell_type": "code",
   "execution_count": 17,
   "metadata": {
    "slideshow": {
     "slide_type": "-"
    }
   },
   "outputs": [],
   "source": [
    "view4.script('vibration off')"
   ]
  },
  {
   "cell_type": "markdown",
   "metadata": {
    "slideshow": {
     "slide_type": "subslide"
    }
   },
   "source": [
    "### Vibrations (Gaussian)"
   ]
  },
  {
   "cell_type": "code",
   "execution_count": 18,
   "metadata": {},
   "outputs": [
    {
     "data": {
      "application/vnd.jupyter.widget-view+json": {
       "model_id": "38b2ee3b35024d73b794da0180fdbd2e",
       "version_major": 2,
       "version_minor": 0
      },
      "text/plain": [
       "JsmolView(info={'width': '100%', 'height': '100%', 'color': 'black', 'use': 'HTML5', 'j2sPath': '/nbextensions…"
      ]
     },
     "metadata": {},
     "output_type": "display_data"
    }
   ],
   "source": [
    "view5 = JsmolView.from_file('CO2-DZV-hess.log',layout=Layout(height=\"400px\")); view5"
   ]
  },
  {
   "cell_type": "code",
   "execution_count": 19,
   "metadata": {},
   "outputs": [
    {
     "data": {
      "application/vnd.jupyter.widget-view+json": {
       "model_id": "9642e2c5f1f64e42b3ce28df8bc4b2b0",
       "version_major": 2,
       "version_minor": 0
      },
      "text/plain": [
       "interactive(children=(Checkbox(value=True, description='vibrations'), IntSlider(value=5, description='mode', m…"
      ]
     },
     "metadata": {},
     "output_type": "display_data"
    }
   ],
   "source": [
    "@interact(vibrations=True, mode=(1, 9))\n",
    "def load_mode(vibrations, mode):\n",
    "    view5.script('frame {}; vibration SCALE 1; vibration 1'.format(mode) if vibrations else 'vibration off')"
   ]
  },
  {
   "cell_type": "markdown",
   "metadata": {
    "slideshow": {
     "slide_type": "slide"
    }
   },
   "source": [
    "# Alternatives\n",
    "\n",
    "Specially for atomistic structures:\n",
    "- nglview (https://github.com/arose/nglview)\n",
    "- 3Dmol (https://3dmol.csb.pitt.edu/)\n",
    "\n",
    "More general porpuses:\n",
    "- ipyvolume (https://github.com/maartenbreddels/ipyvolume)\n",
    "- pythreejs\n",
    "\n"
   ]
  },
  {
   "cell_type": "markdown",
   "metadata": {
    "slideshow": {
     "slide_type": "subslide"
    }
   },
   "source": [
    "## Nglview"
   ]
  },
  {
   "cell_type": "code",
   "execution_count": 6,
   "metadata": {
    "slideshow": {
     "slide_type": "-"
    }
   },
   "outputs": [
    {
     "data": {
      "application/vnd.jupyter.widget-view+json": {
       "model_id": "5698c87062c848b99320254c877c114e",
       "version_major": 2,
       "version_minor": 0
      },
      "text/plain": [
       "NGLWidget()"
      ]
     },
     "metadata": {},
     "output_type": "display_data"
    }
   ],
   "source": [
    "view = nglview.show_pdbid(\"3pqr\")  # load \"3pqr\" from RCSB PDB and display viewer widget\n",
    "view"
   ]
  },
  {
   "cell_type": "markdown",
   "metadata": {
    "slideshow": {
     "slide_type": "subslide"
    }
   },
   "source": [
    "## ipyvolume"
   ]
  },
  {
   "cell_type": "code",
   "execution_count": 7,
   "metadata": {
    "scrolled": false
   },
   "outputs": [
    {
     "data": {
      "application/vnd.jupyter.widget-view+json": {
       "model_id": "acf0ae654108462c9a66e5cbb1357b2a",
       "version_major": 2,
       "version_minor": 0
      },
      "text/plain": [
       "VBox(children=(Figure(camera=PerspectiveCamera(fov=46.0, position=(0.0, 0.0, 2.0), quaternion=(0.0, 0.0, 0.0, …"
      ]
     },
     "metadata": {},
     "output_type": "display_data"
    },
    {
     "data": {
      "application/vnd.jupyter.widget-view+json": {
       "model_id": "52aa71a1a7954bc2851dc91976e3ae3a",
       "version_major": 2,
       "version_minor": 0
      },
      "text/plain": [
       "Scatter(color_selected=array('white', dtype='<U5'), geo='sphere', line_material=ShaderMaterial(), material=Sha…"
      ]
     },
     "metadata": {},
     "output_type": "display_data"
    }
   ],
   "source": [
    "ipyvolume.clear(); ipyvolume.examples.gaussian()"
   ]
  },
  {
   "cell_type": "markdown",
   "metadata": {
    "slideshow": {
     "slide_type": "slide"
    }
   },
   "source": [
    "# THE END"
   ]
  },
  {
   "cell_type": "code",
   "execution_count": null,
   "metadata": {},
   "outputs": [],
   "source": [
    "view1.close_all()"
   ]
  },
  {
   "cell_type": "markdown",
   "metadata": {
    "slideshow": {
     "slide_type": "fragment"
    }
   },
   "source": [
    "---\n",
    "## Surfascope on GitHub\n",
    "\n",
    "https://github.com/surfascope\n",
    "- research team subscription (free private repositories)\n",
    "- sharing the codes, data etc.\n",
    "- (optional) public website: http://surfascope.github.io/"
   ]
  }
 ],
 "metadata": {
  "celltoolbar": "Edit Metadata",
  "kernelspec": {
   "display_name": "Python 3",
   "language": "python",
   "name": "python3"
  },
  "language_info": {
   "codemirror_mode": {
    "name": "ipython",
    "version": 3
   },
   "file_extension": ".py",
   "mimetype": "text/x-python",
   "name": "python",
   "nbconvert_exporter": "python",
   "pygments_lexer": "ipython3",
   "version": "3.7.6"
  }
 },
 "nbformat": 4,
 "nbformat_minor": 4
}
