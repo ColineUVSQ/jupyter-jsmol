{
 "cells": [
  {
   "cell_type": "markdown",
   "metadata": {},
   "source": [
    "# Scripting in JSmol\n",
    "\n",
    "https://chemapps.stolaf.edu/jmol/docs/"
   ]
  },
  {
   "cell_type": "code",
   "execution_count": 33,
   "metadata": {
    "scrolled": true
   },
   "outputs": [
    {
     "data": {
      "text/html": [
       "<script type=\"text/javascript\" src=\"/nbextensions/jupyter-jsmol/jsmol/JSmol.min.js\"></script>\n"
      ],
      "text/plain": [
       "<IPython.core.display.HTML object>"
      ]
     },
     "metadata": {},
     "output_type": "display_data"
    }
   ],
   "source": [
    "%%html\n",
    "<script type=\"text/javascript\" src=\"/nbextensions/jupyter-jsmol/jsmol/JSmol.min.js\"></script>"
   ]
  },
  {
   "cell_type": "code",
   "execution_count": 43,
   "metadata": {},
   "outputs": [],
   "source": [
    "from jupyter_jsmol import JsmolView\n",
    "from ipywidgets import Layout, widgets"
   ]
  },
  {
   "cell_type": "markdown",
   "metadata": {},
   "source": [
    "# Isosurface"
   ]
  },
  {
   "cell_type": "code",
   "execution_count": 44,
   "metadata": {
    "scrolled": false
   },
   "outputs": [
    {
     "data": {
      "application/vnd.jupyter.widget-view+json": {
       "model_id": "",
       "version_major": 2,
       "version_minor": 0
      },
      "text/plain": [
       "JsmolView(info={'width': '100%', 'height': '100%', 'color': 'white', 'use': 'HTML5', 'j2sPath': '/nbextensions…"
      ]
     },
     "metadata": {},
     "output_type": "display_data"
    }
   ],
   "source": [
    "view1 = JsmolView(color='white')\n",
    "view1"
   ]
  },
  {
   "cell_type": "code",
   "execution_count": 45,
   "metadata": {},
   "outputs": [],
   "source": [
    "view1.script('load \"coord.xyz\" {2 2 2} unitcell {  4.365  4.625  6.359  90.0 90.0  90.0};')"
   ]
  },
  {
   "cell_type": "code",
   "execution_count": 46,
   "metadata": {},
   "outputs": [],
   "source": [
    "# Quite slow but it works\n",
    "view1.script('isosurface p1 \"tmp.cub\"; color isosurface yellow')"
   ]
  },
  {
   "cell_type": "code",
   "execution_count": 47,
   "metadata": {},
   "outputs": [],
   "source": [
    "view1.script('write IMAGE 1000 1000 JPG 100 \"image.jpg\"')"
   ]
  },
  {
   "cell_type": "code",
   "execution_count": 48,
   "metadata": {},
   "outputs": [
    {
     "data": {
      "text/plain": [
       "{'width': '100%',\n",
       " 'height': '100%',\n",
       " 'color': 'white',\n",
       " 'use': 'HTML5',\n",
       " 'j2sPath': '/nbextensions/jupyter-jsmol/jsmol/j2s',\n",
       " 'antialiasDisplay': True,\n",
       " 'disableInitialConsole': True,\n",
       " 'disableJ2SLoadMonitor': True,\n",
       " 'debug': False}"
      ]
     },
     "execution_count": 48,
     "metadata": {},
     "output_type": "execute_result"
    }
   ],
   "source": [
    "view1.info"
   ]
  },
  {
   "cell_type": "markdown",
   "metadata": {},
   "source": [
    "# Advanced scripting"
   ]
  },
  {
   "cell_type": "code",
   "execution_count": 49,
   "metadata": {
    "scrolled": false
   },
   "outputs": [
    {
     "data": {
      "application/vnd.jupyter.widget-view+json": {
       "model_id": "",
       "version_major": 2,
       "version_minor": 0
      },
      "text/plain": [
       "JsmolView(info={'width': '100%', 'height': '100%', 'color': 'gray', 'use': 'HTML5', 'j2sPath': '/nbextensions/…"
      ]
     },
     "metadata": {},
     "output_type": "display_data"
    }
   ],
   "source": [
    "view2 = JsmolView(layout=Layout(height=\"600px\"))\n",
    "view2"
   ]
  },
  {
   "cell_type": "code",
   "execution_count": 50,
   "metadata": {},
   "outputs": [],
   "source": [
    "script=\"\"\"load \"./surf8.xyz\" {1 2 2} unitcell {20 9.629966 8.340890 90 90 90}\n",
    "nat=76\n",
    "for(ii=0;ii<=3;ii=ii+1)\n",
    " iat=17+ii*nat\n",
    " jat=5+ii*nat\n",
    " select atomno=iat, atomno=jat\n",
    " connect none\n",
    "\n",
    " iat=5+ii*nat\n",
    " jat=19+ii*nat\n",
    " select atomno=iat, atomno=jat\n",
    " connect none\n",
    "\n",
    " iat=19+ii*nat\n",
    " jat=7+ii*nat\n",
    " select atomno=19, atomno=7\n",
    " select atomno=iat, atomno=jat\n",
    " connect none\n",
    "\n",
    " iat=7+ii*nat\n",
    " jat=17+(ii+2)*nat\n",
    " select atomno=iat, atomno=jat\n",
    " connect none\n",
    "\n",
    "end for\n",
    "\n",
    "for(ii=0;ii<=2;ii=ii+2)\n",
    " iat=1+(ii+1)*nat\n",
    " jat=21+ii*nat\n",
    " select atomno=iat, atomno=jat\n",
    " connect none\n",
    "\n",
    " iat=21+ii*nat\n",
    " jat=3+(ii+1)*nat\n",
    " select atomno=iat, atomno=jat\n",
    " connect none\n",
    "\n",
    " iat=3+(ii+1)*nat\n",
    " jat=23+ii*nat\n",
    " select atomno=iat, atomno=jat\n",
    " connect none\n",
    "\n",
    " iat=23+ii*nat\n",
    " jat=1+(ii+3)*nat\n",
    " select atomno=iat, atomno=jat\n",
    " connect none\n",
    "\n",
    "end for\n",
    "\n",
    "for(ii=0;ii<=3;ii=ii+1)\n",
    " for(jj=0;jj<=3;jj=jj+1)\n",
    "  iat=(2*jj+1)+ii*nat\n",
    "  select atomno=iat\n",
    "  polyhedra radius 1.8 translucent color turquoise\n",
    "\n",
    "  iat=16+(2*jj+1)+ii*nat\n",
    "  select atomno=iat\n",
    "  polyhedra radius 1.8 translucent color yellow\n",
    "\n",
    "  iat=8+(2*jj+1)+ii*nat\n",
    "  select atomno=iat\n",
    "  polyhedra radius 1.8 translucent color pink\n",
    "\n",
    "  iat=(2*(jj+1))+ii*nat\n",
    "  select atomno=iat\n",
    "  polyhedra radius 1.8 translucent color green \n",
    "\n",
    "  iat=16+(2*(jj+1))+ii*nat\n",
    "  select atomno=iat\n",
    "  polyhedra radius 1.8 translucent color orange\n",
    "\n",
    " end for\n",
    "end for\n",
    "\"\"\"\n",
    "\n",
    "view2.script(script)"
   ]
  },
  {
   "cell_type": "code",
   "execution_count": null,
   "metadata": {},
   "outputs": [],
   "source": []
  },
  {
   "cell_type": "markdown",
   "metadata": {},
   "source": [
    "# Symmetries"
   ]
  },
  {
   "cell_type": "code",
   "execution_count": 51,
   "metadata": {
    "scrolled": false
   },
   "outputs": [
    {
     "data": {
      "application/vnd.jupyter.widget-view+json": {
       "model_id": "",
       "version_major": 2,
       "version_minor": 0
      },
      "text/plain": [
       "JsmolView(info={'width': '100%', 'height': '100%', 'color': 'gray', 'use': 'HTML5', 'j2sPath': '/nbextensions/…"
      ]
     },
     "metadata": {},
     "output_type": "display_data"
    }
   ],
   "source": [
    "view3 = JsmolView(layout=Layout(height=\"600px\"))\n",
    "view3"
   ]
  },
  {
   "cell_type": "code",
   "execution_count": 52,
   "metadata": {},
   "outputs": [],
   "source": [
    "view3.script('load CaF2.cif {1 1 1}')\n",
    "view3.script('draw SYMOP 131')"
   ]
  },
  {
   "cell_type": "markdown",
   "metadata": {},
   "source": [
    "# Vibrations (GAUSSIAN)"
   ]
  },
  {
   "cell_type": "code",
   "execution_count": 53,
   "metadata": {},
   "outputs": [
    {
     "data": {
      "application/vnd.jupyter.widget-view+json": {
       "model_id": "",
       "version_major": 2,
       "version_minor": 0
      },
      "text/plain": [
       "JsmolView(info={'width': '100%', 'height': '100%', 'color': 'white', 'use': 'HTML5', 'j2sPath': '/nbextensions…"
      ]
     },
     "metadata": {},
     "output_type": "display_data"
    }
   ],
   "source": [
    "view4 = JsmolView(layout=Layout(height=\"600px\"), color='white')\n",
    "view4"
   ]
  },
  {
   "cell_type": "code",
   "execution_count": 54,
   "metadata": {},
   "outputs": [],
   "source": [
    "view4.script(\"\"\"\n",
    "// use anti-aliasing\n",
    "set antialiasdisplay;\n",
    "// remove jmol logo\n",
    "set frank off;\n",
    "// use the smaller of height/width when setting zoom level\n",
    "set zoomlarge false;\n",
    "// Allow sending script commands while moveto is executing\n",
    "set waitformoveto off;\n",
    "hide off;\n",
    "\"\"\")"
   ]
  },
  {
   "cell_type": "code",
   "execution_count": 55,
   "metadata": {},
   "outputs": [],
   "source": [
    "view4.script('load 1x1x1.xyz')"
   ]
  },
  {
   "cell_type": "code",
   "execution_count": 57,
   "metadata": {},
   "outputs": [],
   "source": [
    "view4.script('frame 16; vibration SCALE 1; vibration 1')"
   ]
  },
  {
   "cell_type": "code",
   "execution_count": 58,
   "metadata": {},
   "outputs": [],
   "source": [
    "view4.script('vibration off')"
   ]
  },
  {
   "cell_type": "code",
   "execution_count": 59,
   "metadata": {
    "scrolled": false
   },
   "outputs": [
    {
     "data": {
      "application/vnd.jupyter.widget-view+json": {
       "model_id": "",
       "version_major": 2,
       "version_minor": 0
      },
      "text/plain": [
       "JsmolView(info={'width': '100%', 'height': '100%', 'color': 'gray', 'use': 'HTML5', 'j2sPath': '/nbextensions/…"
      ]
     },
     "metadata": {},
     "output_type": "display_data"
    }
   ],
   "source": [
    "view5 = JsmolView(layout=Layout(height=\"600px\"))\n",
    "view5"
   ]
  },
  {
   "cell_type": "code",
   "execution_count": 60,
   "metadata": {},
   "outputs": [],
   "source": [
    "view5.script('load CO2-DZV-hess.log')"
   ]
  },
  {
   "cell_type": "code",
   "execution_count": 61,
   "metadata": {},
   "outputs": [],
   "source": [
    "view5.script('frame 7; vibration SCALE 1.5; vibration 5')"
   ]
  },
  {
   "cell_type": "code",
   "execution_count": null,
   "metadata": {},
   "outputs": [],
   "source": []
  },
  {
   "cell_type": "code",
   "execution_count": 62,
   "metadata": {},
   "outputs": [],
   "source": [
    "view1.close_all()"
   ]
  },
  {
   "cell_type": "code",
   "execution_count": null,
   "metadata": {},
   "outputs": [],
   "source": []
  }
 ],
 "metadata": {
  "kernelspec": {
   "display_name": "Python 3",
   "language": "python",
   "name": "python3"
  },
  "language_info": {
   "codemirror_mode": {
    "name": "ipython",
    "version": 3
   },
   "file_extension": ".py",
   "mimetype": "text/x-python",
   "name": "python",
   "nbconvert_exporter": "python",
   "pygments_lexer": "ipython3",
   "version": "3.7.6"
  }
 },
 "nbformat": 4,
 "nbformat_minor": 4
}
