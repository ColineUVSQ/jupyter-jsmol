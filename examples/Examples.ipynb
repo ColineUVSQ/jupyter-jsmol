{
 "cells": [
  {
   "cell_type": "code",
   "execution_count": 12,
   "metadata": {},
   "outputs": [],
   "source": [
    "from jupyter_jsmol import JsmolView\n",
    "from ipywidgets import Layout"
   ]
  },
  {
   "cell_type": "code",
   "execution_count": null,
   "metadata": {},
   "outputs": [],
   "source": []
  },
  {
   "cell_type": "code",
   "execution_count": 13,
   "metadata": {
    "scrolled": true
   },
   "outputs": [
    {
     "data": {
      "text/html": [
       "<script type=\"text/javascript\" src=\"/nbextensions/jupyter-jsmol/JSmol.min.js\"></script>\n"
      ],
      "text/plain": [
       "<IPython.core.display.HTML object>"
      ]
     },
     "metadata": {},
     "output_type": "display_data"
    }
   ],
   "source": [
    "%%html\n",
    "<script type=\"text/javascript\" src=\"/nbextensions/jupyter-jsmol/JSmol.min.js\"></script>\n"
   ]
  },
  {
   "cell_type": "code",
   "execution_count": 14,
   "metadata": {
    "scrolled": true
   },
   "outputs": [
    {
     "data": {
      "application/vnd.jupyter.widget-view+json": {
       "model_id": "f813d1baa23d4d489a277123e1a8e635",
       "version_major": 2,
       "version_minor": 0
      },
      "text/plain": [
       "JsmolView(info={'width': '100%', 'height': 400, 'color': 'white', 'script': '', 'use': 'HTML5', 'j2sPath': '/n…"
      ]
     },
     "metadata": {},
     "output_type": "display_data"
    }
   ],
   "source": [
    "view1 = JsmolView(height=400, color='white')\n",
    "view1"
   ]
  },
  {
   "cell_type": "code",
   "execution_count": 16,
   "metadata": {},
   "outputs": [],
   "source": [
    "view1.script('load \"coord.xyz\" {2 2 2} unitcell {  4.365  4.625  6.359  90.0 90.0  90.0};')"
   ]
  },
  {
   "cell_type": "code",
   "execution_count": 31,
   "metadata": {},
   "outputs": [],
   "source": [
    "# Quite slow but it works\n",
    "view1.script('isosurface p1 \"tmp.cub\"; color isosurface yellow')"
   ]
  },
  {
   "cell_type": "code",
   "execution_count": 18,
   "metadata": {},
   "outputs": [
    {
     "data": {
      "text/plain": [
       "{'width': '100%',\n",
       " 'height': 400,\n",
       " 'color': 'white',\n",
       " 'script': '',\n",
       " 'use': 'HTML5',\n",
       " 'j2sPath': '/nbextensions/jupyter-jsmol/j2s',\n",
       " 'antialiasDisplay': True,\n",
       " 'disableInitialConsole': True,\n",
       " 'disableJ2SLoadMonitor': True,\n",
       " 'debug': False}"
      ]
     },
     "execution_count": 18,
     "metadata": {},
     "output_type": "execute_result"
    }
   ],
   "source": [
    "view1.info"
   ]
  },
  {
   "cell_type": "markdown",
   "metadata": {},
   "source": [
    "# Advanced scripting"
   ]
  },
  {
   "cell_type": "code",
   "execution_count": 19,
   "metadata": {
    "scrolled": false
   },
   "outputs": [
    {
     "data": {
      "application/vnd.jupyter.widget-view+json": {
       "model_id": "f627af94d607492dbe99c2efa5b6edea",
       "version_major": 2,
       "version_minor": 0
      },
      "text/plain": [
       "JsmolView(info={'width': '100%', 'height': '100%', 'color': 'gray', 'script': '', 'use': 'HTML5', 'j2sPath': '…"
      ]
     },
     "metadata": {},
     "output_type": "display_data"
    }
   ],
   "source": [
    "view2 = JsmolView(height=\"100%\", layout=Layout(height=\"600px\"))\n",
    "view2"
   ]
  },
  {
   "cell_type": "code",
   "execution_count": 26,
   "metadata": {},
   "outputs": [
    {
     "data": {
      "text/plain": [
       "{'width': '100%',\n",
       " 'height': 400,\n",
       " 'color': 'white',\n",
       " 'script': 'load water.xodydata; rotate off',\n",
       " 'use': 'HTML5',\n",
       " 'j2sPath': '/nbextensions/jupyter-jsmol/j2s',\n",
       " 'antialiasDisplay': True,\n",
       " 'disableInitialConsole': True,\n",
       " 'disableJ2SLoadMonitor': True,\n",
       " 'debug': False}"
      ]
     },
     "execution_count": 26,
     "metadata": {},
     "output_type": "execute_result"
    }
   ],
   "source": [
    "view1.script('load inline \"' + data + '\"')"
   ]
  },
  {
   "cell_type": "code",
   "execution_count": 21,
   "metadata": {},
   "outputs": [],
   "source": [
    "script=\"\"\"load \"./surf8.xyz\" {1 2 2} unitcell {20 9.629966 8.340890 90 90 90}\n",
    "nat=76\n",
    "for(ii=0;ii<=3;ii=ii+1)\n",
    " iat=17+ii*nat\n",
    " jat=5+ii*nat\n",
    " select atomno=iat, atomno=jat\n",
    " connect none\n",
    "\n",
    " iat=5+ii*nat\n",
    " jat=19+ii*nat\n",
    " select atomno=iat, atomno=jat\n",
    " connect none\n",
    "\n",
    " iat=19+ii*nat\n",
    " jat=7+ii*nat\n",
    " select atomno=19, atomno=7\n",
    " select atomno=iat, atomno=jat\n",
    " connect none\n",
    "\n",
    " iat=7+ii*nat\n",
    " jat=17+(ii+2)*nat\n",
    " select atomno=iat, atomno=jat\n",
    " connect none\n",
    "\n",
    "end for\n",
    "\n",
    "for(ii=0;ii<=2;ii=ii+2)\n",
    " iat=1+(ii+1)*nat\n",
    " jat=21+ii*nat\n",
    " select atomno=iat, atomno=jat\n",
    " connect none\n",
    "\n",
    " iat=21+ii*nat\n",
    " jat=3+(ii+1)*nat\n",
    " select atomno=iat, atomno=jat\n",
    " connect none\n",
    "\n",
    " iat=3+(ii+1)*nat\n",
    " jat=23+ii*nat\n",
    " select atomno=iat, atomno=jat\n",
    " connect none\n",
    "\n",
    " iat=23+ii*nat\n",
    " jat=1+(ii+3)*nat\n",
    " select atomno=iat, atomno=jat\n",
    " connect none\n",
    "\n",
    "end for\n",
    "\n",
    "for(ii=0;ii<=3;ii=ii+1)\n",
    " for(jj=0;jj<=3;jj=jj+1)\n",
    "  iat=(2*jj+1)+ii*nat\n",
    "  select atomno=iat\n",
    "  polyhedra radius 1.8 translucent color turquoise\n",
    "\n",
    "  iat=16+(2*jj+1)+ii*nat\n",
    "  select atomno=iat\n",
    "  polyhedra radius 1.8 translucent color yellow\n",
    "\n",
    "  iat=8+(2*jj+1)+ii*nat\n",
    "  select atomno=iat\n",
    "  polyhedra radius 1.8 translucent color pink\n",
    "\n",
    "  iat=(2*(jj+1))+ii*nat\n",
    "  select atomno=iat\n",
    "  polyhedra radius 1.8 translucent color green \n",
    "\n",
    "  iat=16+(2*(jj+1))+ii*nat\n",
    "  select atomno=iat\n",
    "  polyhedra radius 1.8 translucent color orange\n",
    "\n",
    " end for\n",
    "end for\n",
    "\"\"\"\n",
    "\n",
    "view2.script(script)"
   ]
  },
  {
   "cell_type": "markdown",
   "metadata": {},
   "source": [
    "# Symmetries"
   ]
  },
  {
   "cell_type": "code",
   "execution_count": 24,
   "metadata": {},
   "outputs": [
    {
     "data": {
      "application/vnd.jupyter.widget-view+json": {
       "model_id": "9a6e23219e8441d89f044cb032ddcb98",
       "version_major": 2,
       "version_minor": 0
      },
      "text/plain": [
       "JsmolView(info={'width': '100%', 'height': '100%', 'color': 'gray', 'script': '', 'use': 'HTML5', 'j2sPath': '…"
      ]
     },
     "metadata": {},
     "output_type": "display_data"
    }
   ],
   "source": [
    "view3 = JsmolView(height=\"100%\", layout=Layout(height=\"600px\"))\n",
    "view3"
   ]
  },
  {
   "cell_type": "code",
   "execution_count": 29,
   "metadata": {},
   "outputs": [],
   "source": [
    "view3.script('load CaF2.cif {1 1 1}')\n"
   ]
  },
  {
   "cell_type": "code",
   "execution_count": null,
   "metadata": {},
   "outputs": [],
   "source": []
  },
  {
   "cell_type": "code",
   "execution_count": null,
   "metadata": {},
   "outputs": [],
   "source": []
  }
 ],
 "metadata": {
  "kernelspec": {
   "display_name": "Python 3",
   "language": "python",
   "name": "python3"
  },
  "language_info": {
   "codemirror_mode": {
    "name": "ipython",
    "version": 3
   },
   "file_extension": ".py",
   "mimetype": "text/x-python",
   "name": "python",
   "nbconvert_exporter": "python",
   "pygments_lexer": "ipython3",
   "version": "3.7.6"
  }
 },
 "nbformat": 4,
 "nbformat_minor": 4
}
